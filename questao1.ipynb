{
  "nbformat": 4,
  "nbformat_minor": 0,
  "metadata": {
    "colab": {
      "provenance": []
    },
    "kernelspec": {
      "name": "python3",
      "display_name": "Python 3"
    },
    "language_info": {
      "name": "python"
    }
  },
  "cells": [
    {
      "cell_type": "code",
      "execution_count": null,
      "metadata": {
        "id": "XM57gXi4Q94z"
      },
      "outputs": [],
      "source": []
    },
    {
      "cell_type": "markdown",
      "source": [
        "Não porque o valor maximo do coeficiente é 4 e o numero está elevado a 5.\n",
        "Se fosse 10^4, seria aceito pela máquina."
      ],
      "metadata": {
        "id": "JtiFiK_cRDoG"
      }
    }
  ]
}