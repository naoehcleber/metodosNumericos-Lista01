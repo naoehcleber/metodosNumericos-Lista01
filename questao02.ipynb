{
  "nbformat": 4,
  "nbformat_minor": 0,
  "metadata": {
    "colab": {
      "provenance": []
    },
    "kernelspec": {
      "name": "python3",
      "display_name": "Python 3"
    },
    "language_info": {
      "name": "python"
    }
  },
  "cells": [
    {
      "cell_type": "code",
      "execution_count": 10,
      "metadata": {
        "id": "zWXneXTxdWlC"
      },
      "outputs": [],
      "source": [
        "import numpy as np\n",
        "import matplotlib.pyplot as plt"
      ]
    },
    {
      "cell_type": "code",
      "source": [
        "def f(x):\n",
        "  return 3 - x**2 - np.exp(x)"
      ],
      "metadata": {
        "id": "KqZpUK94dbUm"
      },
      "execution_count": 11,
      "outputs": []
    },
    {
      "cell_type": "code",
      "source": [
        "a = 0\n",
        "b = 3\n",
        "tolerancia = 0.001\n",
        "limite_iteracoes = 5"
      ],
      "metadata": {
        "id": "FNoeKW4gdpgo"
      },
      "execution_count": 19,
      "outputs": []
    },
    {
      "cell_type": "code",
      "source": [
        "x = np.linspace(75,100,100)\n",
        "fx = f(x)"
      ],
      "metadata": {
        "id": "vkbyVsmud00y"
      },
      "execution_count": 20,
      "outputs": []
    },
    {
      "cell_type": "code",
      "source": [
        "plt.plot(x,fx)\n",
        "plt.grid(True)"
      ],
      "metadata": {
        "colab": {
          "base_uri": "https://localhost:8080/",
          "height": 445
        },
        "id": "p4qdQnIWieu0",
        "outputId": "87f48dd9-3d1d-48de-db97-06e1ebb5df54"
      },
      "execution_count": 21,
      "outputs": [
        {
          "output_type": "display_data",
          "data": {
            "text/plain": [
              "<Figure size 640x480 with 1 Axes>"
            ],
            "image/png": "[encoded data removed]"
          },
          "metadata": {}
        }
      ]
    },
    {
      "cell_type": "code",
      "source": [
        "c =(a+b)/2\n",
        "iteracoes = 0\n",
        "while(np.abs(a-c) > tolerancia):\n",
        "  iteracoes += 1\n",
        "  if f(a)*f(c) < 0:\n",
        "    b = c\n",
        "  elif f(b)*f(c) < 0:\n",
        "    a = c\n",
        "  else :\n",
        "    print('Defina uma melhor estimativa')\n",
        "    break\n",
        "  if iteracoes >= limite_iteracoes:\n",
        "    break\n",
        "  c =(a+b)/2\n"
      ],
      "metadata": {
        "id": "T5ldM6Aaihn_"
      },
      "execution_count": 22,
      "outputs": []
    },
    {
      "cell_type": "code",
      "source": [
        "print(f'raiz : {c} \\n f(c): {f(c)} \\n iteracoes {iteracoes}')"
      ],
      "metadata": {
        "colab": {
          "base_uri": "https://localhost:8080/"
        },
        "id": "G95Wjq89jAkw",
        "outputId": "2f352826-d5ea-44ae-f5b7-8faaee3c24d8"
      },
      "execution_count": 23,
      "outputs": [
        {
          "output_type": "stream",
          "name": "stdout",
          "text": [
            "raiz : 0.84375 \n",
            " f(c): -0.03698372277712103 \n",
            " iteracoes 5\n"
          ]
        }
      ]
    },
    {
      "cell_type": "code",
      "source": [],
      "metadata": {
        "id": "zOn0V8dSjESz"
      },
      "execution_count": 90,
      "outputs": []
    }
  ]
}