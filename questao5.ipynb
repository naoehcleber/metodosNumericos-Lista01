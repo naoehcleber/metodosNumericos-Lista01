{
  "nbformat": 4,
  "nbformat_minor": 0,
  "metadata": {
    "colab": {
      "provenance": []
    },
    "kernelspec": {
      "name": "python3",
      "display_name": "Python 3"
    },
    "language_info": {
      "name": "python"
    }
  },
  "cells": [
    {
      "cell_type": "code",
      "execution_count": 1,
      "metadata": {
        "id": "xKa_QkRoHKfh"
      },
      "outputs": [],
      "source": [
        "import numpy as np\n",
        "import matplotlib.pyplot as plt"
      ]
    },
    {
      "cell_type": "code",
      "source": [
        "def phi(x):\n",
        "  return np.exp(x) - 2"
      ],
      "metadata": {
        "id": "Hcv2oNgdHQeM"
      },
      "execution_count": 2,
      "outputs": []
    },
    {
      "cell_type": "code",
      "source": [
        "tolerancia = 0.0000001\n",
        "eps = 1\n",
        "xo = -1.8\n",
        "x = 0\n",
        "while(eps > tolerancia):\n",
        "  x = phi(xo)\n",
        "  eps = abs(xo - x)\n",
        "  xo = x"
      ],
      "metadata": {
        "id": "QdtykeUAHc96"
      },
      "execution_count": 9,
      "outputs": []
    },
    {
      "cell_type": "code",
      "source": [
        "print(f'raiz : {x}')"
      ],
      "metadata": {
        "colab": {
          "base_uri": "https://localhost:8080/"
        },
        "id": "GX1bIMWeJcAU",
        "outputId": "b6e2a978-46e6-46c6-a84f-147de732e54d"
      },
      "execution_count": 10,
      "outputs": [
        {
          "output_type": "stream",
          "name": "stdout",
          "text": [
            "raiz : -1.8414056434500115\n"
          ]
        }
      ]
    },
    {
      "cell_type": "markdown",
      "source": [],
      "metadata": {
        "id": "OW7bwEbyRA8h"
      }
    },
    {
      "cell_type": "code",
      "source": [],
      "metadata": {
        "id": "PLyj1qMCJilQ"
      },
      "execution_count": null,
      "outputs": []
    }
  ]
}