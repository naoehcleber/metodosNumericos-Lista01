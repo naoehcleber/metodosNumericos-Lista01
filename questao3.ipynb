{
  "nbformat": 4,
  "nbformat_minor": 0,
  "metadata": {
    "colab": {
      "provenance": []
    },
    "kernelspec": {
      "name": "python3",
      "display_name": "Python 3"
    },
    "language_info": {
      "name": "python"
    }
  },
  "cells": [
    {
      "cell_type": "code",
      "execution_count": 1,
      "metadata": {
        "id": "EZTmKGhmFViR"
      },
      "outputs": [],
      "source": [
        "import numpy as np\n",
        "import matplotlib.pyplot as plt"
      ]
    },
    {
      "cell_type": "code",
      "source": [
        "def f(x):\n",
        "  return x**2 - 4\n",
        "\n",
        "def g(x):\n",
        "  return np.log(x)\n",
        "\n",
        "def diferenca(x):\n",
        "  return f(x) - g(x)\n"
      ],
      "metadata": {
        "id": "wLaFS_CiFcUx"
      },
      "execution_count": 22,
      "outputs": []
    },
    {
      "cell_type": "code",
      "source": [
        "x = np.linspace(0,25,100)\n",
        "y = np.linspace(1,25,100)\n",
        "plt.plot(x,f(x))\n",
        "plt.plot(y,g(y))\n",
        "plt.grid(True)"
      ],
      "metadata": {
        "colab": {
          "base_uri": "https://localhost:8080/",
          "height": 430
        },
        "id": "Dg2Nwu5WFZFZ",
        "outputId": "f62e508e-7317-4d89-ea9e-302383dec37e"
      },
      "execution_count": 23,
      "outputs": [
        {
          "output_type": "display_data",
          "data": {
            "text/plain": [
              "<Figure size 640x480 with 1 Axes>"
            ],
            "image/png": "[encoded data removed]"
          },
          "metadata": {}
        }
      ]
    },
    {
      "cell_type": "code",
      "source": [
        "#vai aplicar o metodo da bissecção na diferença entre as duas funcoes"
      ],
      "metadata": {
        "id": "mWvPfBnvODwg"
      },
      "execution_count": 24,
      "outputs": []
    },
    {
      "cell_type": "code",
      "source": [
        "iter = 0\n",
        "iter_max = 10\n",
        "a = -10\n",
        "b = 10\n",
        "\n",
        "while(iter < iter_max):\n",
        "  c = (a+b)/2\n",
        "  if diferenca(a) * diferenca(c) < 0:\n",
        "    b =c\n",
        "  elif diferenca(b) * diferenca(c) < 0:\n",
        "    a = c\n",
        "\n",
        "  iter +=1"
      ],
      "metadata": {
        "colab": {
          "base_uri": "https://localhost:8080/"
        },
        "id": "5TKGnO9oPzZ2",
        "outputId": "78320ca0-0d8b-4051-b58d-3ae128733dc2"
      },
      "execution_count": 33,
      "outputs": [
        {
          "output_type": "stream",
          "name": "stderr",
          "text": [
            "<ipython-input-22-ed5d5cca3533>:5: RuntimeWarning: invalid value encountered in log\n",
            "  return np.log(x)\n",
            "<ipython-input-22-ed5d5cca3533>:5: RuntimeWarning: divide by zero encountered in log\n",
            "  return np.log(x)\n"
          ]
        }
      ]
    },
    {
      "cell_type": "code",
      "source": [
        "print(f'encontro entre as duas: {c}')"
      ],
      "metadata": {
        "colab": {
          "base_uri": "https://localhost:8080/"
        },
        "id": "COq1gM2YQSue",
        "outputId": "ababf7f3-8c08-4bce-a48f-62a40aa97934"
      },
      "execution_count": 34,
      "outputs": [
        {
          "output_type": "stream",
          "name": "stdout",
          "text": [
            "encontro entre as duas: 0.0\n"
          ]
        }
      ]
    },
    {
      "cell_type": "code",
      "source": [],
      "metadata": {
        "id": "UAnIiwX5QqTy"
      },
      "execution_count": null,
      "outputs": []
    }
  ]
}